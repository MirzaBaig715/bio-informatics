{
 "cells": [
  {
   "cell_type": "code",
   "execution_count": 1,
   "metadata": {
    "scrolled": true
   },
   "outputs": [
    {
     "name": "stderr",
     "output_type": "stream",
     "text": [
      "C:\\Users\\User\\Anaconda3\\lib\\site-packages\\sklearn\\cross_validation.py:41: DeprecationWarning: This module was deprecated in version 0.18 in favor of the model_selection module into which all the refactored classes and functions are moved. Also note that the interface of the new CV iterators are different from that of this module. This module will be removed in 0.20.\n",
      "  \"This module will be removed in 0.20.\", DeprecationWarning)\n"
     ]
    }
   ],
   "source": [
    "from bs4 import BeautifulSoup\n",
    "import csv\n",
    "import numpy as np\n",
    "import pandas as pd\n",
    "from pandas import DataFrame\n",
    "from collections import Counter\n",
    "from Bio.SeqUtils import ProtParamData\n",
    "from sklearn.cross_validation import train_test_split\n",
    "from sklearn.tree import DecisionTreeClassifier\n",
    "from sklearn.metrics import accuracy_score\n",
    "from sklearn import tree\n",
    "\n",
    "index = ProtParamData.DIWV "
   ]
  },
  {
   "cell_type": "code",
   "execution_count": 3,
   "metadata": {},
   "outputs": [],
   "source": [
    "\n",
    "def calculate_canonical_value(sequence):\n",
    "    \"\"\"\n",
    "    N: Asparagine, G: Glycine, P: Proline, S: Serine\n",
    "    R: Arginine, K: Lysine, D: Aspartic acid, E: Glutamic acid\n",
    "    n: total number of amino acid residues in the protein.\n",
    "    \"\"\"\n",
    "    amino_acids_count = Counter(sequence)\n",
    "    N = amino_acids_count['N']; G = amino_acids_count['G']; P = amino_acids_count['P']; S = amino_acids_count['S']\n",
    "    R = amino_acids_count['R']; K = amino_acids_count['K']; D = amino_acids_count['D']; E = amino_acids_count['E']\n",
    "    n = len(sequence)\n",
    "    \n",
    "    canonical_value = 15.43 * ((N+G+P+S)/n) - 29.56 * abs((((R+K)-(D+E))/n-0.03))\n",
    "    return canonical_value"
   ]
  },
  {
   "cell_type": "code",
   "execution_count": 2,
   "metadata": {},
   "outputs": [],
   "source": [
    "\n",
    "def calcualte_solubility_index(sequence):\n",
    "    \"\"\"\n",
    "    Calcualte the solubility index\n",
    "    \n",
    "    S_TP: Tripeptide Score, AI: Aliphatic Index, II: Instability Index \n",
    "    FN: frequency of occurrence of Asparagine (A), FT: frequency of occurrence of Threonine (T)\n",
    "    FY: frequency of occurrence of Tyrosine (Y)\n",
    "    D_(ABC,S): 0.2\n",
    "    \n",
    "    \"\"\"\n",
    "    amino_acids_count = Counter(sequence)\n",
    "    FN = amino_acids_count['A']; FT = amino_acids_count['T']; FY = amino_acids_count['Y']\n",
    "    AI = calculate_aliphatic_index(sequence)\n",
    "    II = calculate_instability_index(sequence)\n",
    "    S_TP = calculate_tripeptide_score(sequence)\n",
    "    SI = (0.648 * AI + 0.274 * II - 0.539 * FN - 0.508 * FT - 0.604 * FY - S_TP * 10000)/100\n",
    "    return SI\n",
    "\n",
    "def calculate_tripeptide_score(sequence):\n",
    "    sequence_length = len(sequence)\n",
    "    sum = 0.0\n",
    "    for i in range(1, sequence_length):\n",
    "        sum += 0.2\n",
    "    return (1/(sequence_length-1)) * sum\n",
    "\n",
    "def calculate_aliphatic_index(sequence):\n",
    "    \"\"\"\n",
    "    A: Alanine, V: Valine, I: Isoleucine, L: Leucine residues\n",
    "    \"\"\"\n",
    "    a = 2.9\n",
    "    b = 3.9\n",
    "    amino_acids_count = Counter(sequence)\n",
    "    A = amino_acids_count['A']; V = amino_acids_count['V']; I = amino_acids_count['I']; L = amino_acids_count['L']\n",
    "    AI = A + a * V + b * (I + L)\n",
    "    return AI\n",
    "\n",
    "def calculate_instability_index(sequence):\n",
    "    score = 0.0 \n",
    "    for i in range(1, len(sequence)-1):\n",
    "        try:\n",
    "            dipeptide_value = index[sequence[i]][sequence[i+1]]\n",
    "        except:\n",
    "            dipeptide_value = 0.0\n",
    "        score += dipeptide_value \n",
    "\n",
    "    return (10.0 / len(sequence)) * score\n",
    "#     x = ProteinAnalysis(sequence)\n",
    "#     return x.instability_index() \n",
    "    \n",
    "    "
   ]
  },
  {
   "cell_type": "code",
   "execution_count": 5,
   "metadata": {},
   "outputs": [
    {
     "name": "stdout",
     "output_type": "stream",
     "text": [
      "2692\n"
     ]
    }
   ],
   "source": [
    "\n",
    "def file_to_list(path):\n",
    "    f = open(path)\n",
    "    soup = BeautifulSoup(f, \"html.parser\")\n",
    "    f.close()\n",
    "\n",
    "    sequence_list = soup.find_all(\"sequence\")\n",
    "    store_list = list()\n",
    "    canonical_value_list = list()\n",
    "    solubility_index_list = list()\n",
    "#     sequence_list[:5]\n",
    "    for x in sequence_list:\n",
    "        if x.contents and x.contents != '':\n",
    "            sequence_string = (''.join(str(e) for e in x.contents)).replace('\\n', '').strip()\n",
    "            store_list.append(sequence_string)\n",
    "            canonical_value_list.append(calculate_canonical_value(sequence_string))\n",
    "            solubility_index_list.append(calcualte_solubility_index(sequence_string))\n",
    "    return store_list, canonical_value_list, solubility_index_list\n",
    "\n",
    "soluble_path = r'C:\\Users\\User\\Downloads\\Soluble Subset.xhtml'\n",
    "insoluble_path = r'C:\\Users\\User\\Downloads\\Insoluble Subset.xhtml'\n",
    "\n",
    "soluble_list, soluble_canonical_list, soluble_solubility_index_list = file_to_list(soluble_path)\n",
    "insoluble_list, insoluble_canonical_list, insoluble_solubility_index_list  = file_to_list(insoluble_path)\n",
    "print(len(soluble_list)+len(insoluble_list))\n"
   ]
  },
  {
   "cell_type": "code",
   "execution_count": 38,
   "metadata": {},
   "outputs": [],
   "source": [
    "df1 = DataFrame(\n",
    "    {\n",
    "        'Canonical Value': soluble_canonical_list,\n",
    "        'Solubility Index': soluble_solubility_index_list,\n",
    "        'Label': 1,\n",
    "        'Sequence': soluble_list\n",
    "        \n",
    "    }\n",
    ")\n",
    "# df1.reindex(columns=[\"Label\",\"Canonical \",\"Solubility Index\",\"Sequence\"]) \n",
    "# df1 = DataFrame([[1],soluble_canonical_list,soluble_solubility_index_list,soluble_list],\n",
    "#                columns=[\"Label\",\"Canonical Value\",\"Solubility Index\",\"Sequence\"]\n",
    "#                )\n",
    "# df2 = DataFrame([[0],insoluble_canonical_list,insoluble_solubility_index_list,insoluble_list],\n",
    "#                columns=[\"Label\",\"Canonical Value\",\"Solubility Index\",\"Sequence\"]\n",
    "#                )\n",
    "df2 = DataFrame(\n",
    "    {\n",
    "        'Canonical Value': insoluble_canonical_list,\n",
    "        'Solubility Index': insoluble_solubility_index_list,\n",
    "        'Label': 0,\n",
    "        'Sequence': insoluble_list\n",
    "        \n",
    "    }\n",
    ")\n",
    "# df1.reindex(columns=[\"Label\",\"Canonical Value\",\"Solubility Index\",\"Sequence\"])\n",
    "frames = [df1, df2]\n",
    "# frames = frames[['Label', 'Sequence', 'Solubility Index', 'Canonical Value']]\n",
    "concatenated_df = pd.concat(frames)\n",
    "concatenated_df.to_csv(r'C:\\Users\\User\\complete_dataset.csv', sep=',', index=False)\n",
    "# writer.save()\n",
    "# df['Label'] = 1\n",
    "df = concatenated_df.dropna(axis=0, how='any')\n",
    "# df.to_excel(r'C:\\Users\\User\\complete_dataset.xlsx', sheet_name='sheet1', index=False)\n",
    "# len(df)\n",
    "# with open('C:\\Users\\User\\complete_dataset.xls', \"w\") as csv_file:\n",
    "#         writer = csv.writer(csv_file)\n",
    "#         writer.writerow(store_list)\n",
    "\n"
   ]
  },
  {
   "cell_type": "code",
   "execution_count": 51,
   "metadata": {},
   "outputs": [
    {
     "name": "stdout",
     "output_type": "stream",
     "text": [
      "   Canonical Value  Label                                           Sequence  \\\n",
      "0         2.032131      1  MKTPWKVLLGLLGVAALVTIITVPVVLLNKDEAAADSRRTYTLADY...   \n",
      "1         1.464755      1  MKQSPALAPEERCRRAGSPKPVLRADDNNMGNGCSQKLATANLLRF...   \n",
      "2         2.471316      1  MFCTKLKDLKITGECPFSLLAPGQVPNESSEEAAGSSESCKATVPI...   \n",
      "3         2.706376      1  MGWLCSGLLFPVSCLVLLQVASSGNMKVLQEPTCVSDYMSISTCEW...   \n",
      "4         2.936336      1  MGRLCTKFLTSVGCLILLLVTGSGSIKVLGEPTCFSDYIRTSTCEW...   \n",
      "\n",
      "   Solubility Index  \n",
      "0        -16.727891  \n",
      "1        -15.724514  \n",
      "2        -16.495141  \n",
      "3        -16.543848  \n",
      "4        -16.427135  \n"
     ]
    }
   ],
   "source": [
    "df = pd.read_csv(r'complete_dataset.csv')\n",
    "df = df.dropna(axis=0, how='all')\n",
    "print(df.head())"
   ]
  },
  {
   "cell_type": "code",
   "execution_count": 52,
   "metadata": {},
   "outputs": [
    {
     "name": "stdout",
     "output_type": "stream",
     "text": [
      "(2692, 4)\n"
     ]
    }
   ],
   "source": [
    "print(df.shape)"
   ]
  },
  {
   "cell_type": "code",
   "execution_count": 54,
   "metadata": {},
   "outputs": [
    {
     "name": "stdout",
     "output_type": "stream",
     "text": [
      "   Canonical Value  Label  Sequence  Solubility Index\n",
      "0         2.032131      1       805        -16.727891\n",
      "1         1.464755      1       774        -15.724514\n",
      "2         2.471316      1       562        -16.495141\n",
      "3         2.706376      1       653        -16.543848\n",
      "4         2.936336      1       636        -16.427135\n",
      "0    MKTPWKVLLGLLGVAALVTIITVPVVLLNKDEAAADSRRTYTLADY...\n",
      "1    MKQSPALAPEERCRRAGSPKPVLRADDNNMGNGCSQKLATANLLRF...\n",
      "Name: Sequence, dtype: object\n"
     ]
    }
   ],
   "source": [
    "from sklearn.preprocessing import LabelEncoder\n",
    "\n",
    "x = df.copy()\n",
    "for column in x.columns:\n",
    "    if x[column].dtype == type(object):\n",
    "        le = LabelEncoder()\n",
    "        le.fit(x[column])\n",
    "        x[column] = le.transform(x[column])\n",
    "\n",
    "print(x.head(5))\n",
    "print(df['Sequence'][:2])\n",
    "Y = x.values[:, 1] # this consists of the outcome variable.\n",
    "del x['Label']\n",
    "X = x.values[:, :] # this consists of predictor variables.\n",
    "# df['Label'].dtype\n",
    "# x['Sequence']\n",
    "X_train , X_test, y_train, y_test =train_test_split(X, Y, test_size=0.3, random_state=100)\n",
    "\n",
    "# X_train.shape\n",
    "\n",
    "\n"
   ]
  },
  {
   "cell_type": "code",
   "execution_count": 55,
   "metadata": {},
   "outputs": [
    {
     "data": {
      "text/plain": [
       "DecisionTreeClassifier(class_weight=None, criterion='entropy', max_depth=2,\n",
       "            max_features=None, max_leaf_nodes=None,\n",
       "            min_impurity_decrease=0.0, min_impurity_split=None,\n",
       "            min_samples_leaf=5, min_samples_split=2,\n",
       "            min_weight_fraction_leaf=0.0, presort=False, random_state=100,\n",
       "            splitter='best')"
      ]
     },
     "execution_count": 55,
     "metadata": {},
     "output_type": "execute_result"
    }
   ],
   "source": [
    "clf_gini = DecisionTreeClassifier(criterion=\"entropy\", random_state=100, max_depth=2 , min_samples_leaf=5)\n",
    "clf_gini.fit(X_train, y_train)"
   ]
  },
  {
   "cell_type": "code",
   "execution_count": 65,
   "metadata": {},
   "outputs": [
    {
     "name": "stdout",
     "output_type": "stream",
     "text": [
      "[1 2 0 1 2 0 1 2 0 1 2 0 1 2 0 1 2 0 1 2 0 1 2 0 1 2 0 1 2 0]\n"
     ]
    }
   ],
   "source": [
    "s = \"MKTPWKVLLGLLGVAALVTIITVPVVLLNKDEAAADSRRTYTLADYLKNTFRVKSYSLRWVSDSEYLYKQENNILLFNAEHGNSSIFLENSTFEIFGDSISDYSVSPDRLFVLLEYNYVKQWRHSYTASYSIYDLNKRQLITEEKIPNNTQWITWSQEGHKLAYVWKNDIYVKIEPHLPSHRITSTGKENVIFNGINDWVYEEEIFGAYSALWWSPNGTFLAYAQFNDTGVPLIEYSFYSDESLQYPKTVWIPYPKAGAVNPTVKFFIVNTDSLSSTTTTIPMQITAPASVTTGDHYLCDVAWVSEDRISLQWLRRIQNYSVMAICDYDKTTLVWNCPTTQEHIETSATGWCGRFRPAEPHFTSDGSSFYKIVSDKDGYKHICQFQKDRKPEQVCTFITKGAWEVISIEALTSDYLYYISNEYKEMPGGRNLYKIQLTDHTNKKCLSCDLNPERCQYYSVSLSKEAKYYQLGCRGPGLPLYTLHRSTDQKELRVLEDNSALDKMLQDVQMPSKKLDFIVLNETRFWYQMILPPHFDKSKKYPLLIDVYAGPCSQKADAAFRLNWATYLASTENIIVASFDGRGSGYQGDKIMHAINKRLGTLEVEDQIEAARQFLKMGFVDSKRVAIWGWSYGGYVTSMVLGSGSGVFKCGIAVAPVSRWEYYDSVYTERYMGLPTPEDNLDHYRNSTVMSRAENFKQVEYLLIHGTADDNVHFQQSAQISKALVDAGVDFQAMWYTDEDHGIASSTAHQHIYSHMSHFLQQCFSLR\"\n",
    "le = LabelEncoder()\n",
    "s = np.array([s])\n",
    "le.fit(s)\n",
    "ss = le.transform(s)\n",
    "print(ss)\n",
    "# clf_gini.predict([[-2.02984348, 843, ss]]) # predict target variable for test set’s 1st record."
   ]
  },
  {
   "cell_type": "code",
   "execution_count": 49,
   "metadata": {},
   "outputs": [
    {
     "data": {
      "text/plain": [
       "array([ -2.72984348,  34.        , -19.88289791])"
      ]
     },
     "execution_count": 49,
     "metadata": {},
     "output_type": "execute_result"
    }
   ],
   "source": [
    "y_pred = clf_gini.predict(X_test)\n",
    "y_pred[15]\n",
    "X_test[15]"
   ]
  },
  {
   "cell_type": "code",
   "execution_count": 50,
   "metadata": {},
   "outputs": [
    {
     "name": "stdout",
     "output_type": "stream",
     "text": [
      "Accuracy is  62.5\n"
     ]
    }
   ],
   "source": [
    "print(\"Accuracy is \", accuracy_score(y_test,y_pred)*100)"
   ]
  }
 ],
 "metadata": {
  "kernelspec": {
   "display_name": "Python 3",
   "language": "python",
   "name": "python3"
  },
  "language_info": {
   "codemirror_mode": {
    "name": "ipython",
    "version": 3
   },
   "file_extension": ".py",
   "mimetype": "text/x-python",
   "name": "python",
   "nbconvert_exporter": "python",
   "pygments_lexer": "ipython3",
   "version": "3.6.4"
  }
 },
 "nbformat": 4,
 "nbformat_minor": 2
}
